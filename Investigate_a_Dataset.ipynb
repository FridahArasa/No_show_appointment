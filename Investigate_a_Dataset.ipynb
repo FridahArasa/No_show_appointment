{
 "cells": [
  {
   "cell_type": "markdown",
   "metadata": {},
   "source": [
    "\n",
    "\n",
    "# Project: Investigate a Dataset - [Noshowappointments]\n",
    "\n",
    "## Table of Contents\n",
    "<ul>\n",
    "<li><a href=\"#intro\">Introduction</a></li>\n",
    "<li><a href=\"#wrangling\">Data Wrangling</a></li>\n",
    "<li><a href=\"#eda\">Exploratory Data Analysis</a></li>\n",
    "<li><a href=\"#conclusions\">Conclusions</a></li>\n",
    "</ul>"
   ]
  },
  {
   "cell_type": "markdown",
   "metadata": {},
   "source": [
    "<a id='intro'></a>\n",
    "## Introduction\n",
    "\n",
    "### Dataset Description \n",
    "\n",
    "The data to be analyzed is the No Show Appointment dataset. This dataset is based on data collected from 100k Brazilian medical appointments and focuses on whether or not patients show up for their appointments. It also has various details about the patients such as their ages, hypertension, diabetes, scholarship, gender, neighbourhood whether they showed up for the appointment or not.\n",
    "\n",
    "Column \n",
    "Description\n",
    "\n",
    "PatientId\n",
    "Number used to identify a specific patient\n",
    "\n",
    "Appointment ID\n",
    "Unique number used for appointments by the patients.\n",
    "\n",
    "Gender\n",
    "Indicates whether the patient is Male or Female\n",
    "\n",
    "ScheduledDay\n",
    "Tells us on what day the patient set up their appointment\n",
    "\n",
    "AppointmentDay\n",
    "Is the day the appointment is supposed to take place.\n",
    "\n",
    "Age \n",
    "Indicates how old the patient is.\n",
    "\n",
    "Neighbourhood\n",
    "Geographical area where the patient lives.\n",
    "\n",
    "Scholarship\n",
    "Indicates whether or not the patient is enrolled in the Brasilian welfare program Bolsa Família.\n",
    "\n",
    "Hypertension\n",
    "Is a prevalent disorder in which the blood's long-term force against the arterial walls is great enough to create health problems.\n",
    "\n",
    "Diabetes\n",
    "Is a metabolic disorder that results in excessive blood sugar levels.\n",
    "\n",
    "Alcoholism\n",
    "Is a chronic condition marked by excessive drinking and obsession with alcohol.\n",
    "\n",
    "Handicap\n",
    "Is a disadvantage that makes progress or success difficult\n",
    "\n",
    "SMS_Received\n",
    "A reminder set to remind the patients about their appointments.\n",
    "\n",
    "No-Show\n",
    "Indicates whether the patient showed up for the appointment or not. ‘No’ if the patient showed up to their appointment, and ‘Yes’ if they did not show up.\n",
    "\n",
    "\n",
    "\n",
    "\n",
    "\n",
    "### Question(s) for Analysis\n",
    "\n",
    "1. What are the common trends that show up in patients that have a scholarship and those that don't?\n",
    "2. How does Age affect the patient's ability to get a medical scholarship?\n",
    "3. How does Diabetes affect the patient's ability to get a medical scholarship?\n",
    "4. Investigate the relationship that exists between the patients' ages and hypertension, diabetes, alcoholism and handcap.\n",
    "\n",
    "5. What is the number of  patients that are on a scholarship and those that are not?\n",
    "6.  What is the number of patients with and without Hypertension?\n",
    "7. What is the number of patients with and without Diabetes?\n",
    "8.  What is the number of patients who suffer from Alcoholism and those that don't?\n",
    "9. What is the number of patients who received the SMS and those that didn't?\n"
   ]
  },
  {
   "cell_type": "code",
   "execution_count": 3,
   "metadata": {},
   "outputs": [],
   "source": [
    "# Use this cell to set up import statements for all of the packages that you\n",
    "#   plan to use.\n",
    "\n",
    "# Remember to include a 'magic word' so that your visualizations are plotted\n",
    "#   inline with the notebook. See this page for more:\n",
    "#   http://ipython.readthedocs.io/en/stable/interactive/magics.html\n",
    "import numpy as np\n",
    "import pandas as pd\n",
    "import matplotlib.pyplot as plt\n",
    "import seaborn as sns\n",
    "%matplotlib inline\n"
   ]
  },
  {
   "cell_type": "code",
   "execution_count": 4,
   "metadata": {},
   "outputs": [],
   "source": [
    "# Upgrade pandas to use dataframe.explode() function. \n",
    "#!pip install --upgrade pandas==0.25.0"
   ]
  },
  {
   "cell_type": "markdown",
   "metadata": {},
   "source": [
    "<a id='wrangling'></a>\n",
    "## Data Wrangling"
   ]
  },
  {
   "cell_type": "markdown",
   "metadata": {},
   "source": [
    "### Loading the dataset."
   ]
  },
  {
   "cell_type": "code",
   "execution_count": 5,
   "metadata": {},
   "outputs": [],
   "source": [
    "# Using pandas to load the dataset\n",
    "no_show_df = pd.read_csv('noshowappointments-kagglev2-may-2016 (2).csv')\n"
   ]
  },
  {
   "cell_type": "markdown",
   "metadata": {},
   "source": [
    "Using the head and the tail functions to view the first five and the last five records respectively."
   ]
  },
  {
   "cell_type": "code",
   "execution_count": 6,
   "metadata": {},
   "outputs": [
    {
     "name": "stdout",
     "output_type": "stream",
     "text": [
      "      PatientId  AppointmentID Gender          ScheduledDay  \\\n",
      "0  2.987250e+13        5642903      F  2016-04-29T18:38:08Z   \n",
      "1  5.589978e+14        5642503      M  2016-04-29T16:08:27Z   \n",
      "2  4.262962e+12        5642549      F  2016-04-29T16:19:04Z   \n",
      "3  8.679512e+11        5642828      F  2016-04-29T17:29:31Z   \n",
      "4  8.841186e+12        5642494      F  2016-04-29T16:07:23Z   \n",
      "\n",
      "         AppointmentDay  Age      Neighbourhood  Scholarship  Hipertension  \\\n",
      "0  2016-04-29T00:00:00Z   62    JARDIM DA PENHA            0             1   \n",
      "1  2016-04-29T00:00:00Z   56    JARDIM DA PENHA            0             0   \n",
      "2  2016-04-29T00:00:00Z   62      MATA DA PRAIA            0             0   \n",
      "3  2016-04-29T00:00:00Z    8  PONTAL DE CAMBURI            0             0   \n",
      "4  2016-04-29T00:00:00Z   56    JARDIM DA PENHA            0             1   \n",
      "\n",
      "   Diabetes  Alcoholism  Handcap  SMS_received No-show  \n",
      "0         0           0        0             0      No  \n",
      "1         0           0        0             0      No  \n",
      "2         0           0        0             0      No  \n",
      "3         0           0        0             0      No  \n",
      "4         1           0        0             0      No  \n",
      "           PatientId  AppointmentID Gender          ScheduledDay  \\\n",
      "110522  2.572134e+12        5651768      F  2016-05-03T09:15:35Z   \n",
      "110523  3.596266e+12        5650093      F  2016-05-03T07:27:33Z   \n",
      "110524  1.557663e+13        5630692      F  2016-04-27T16:03:52Z   \n",
      "110525  9.213493e+13        5630323      F  2016-04-27T15:09:23Z   \n",
      "110526  3.775115e+14        5629448      F  2016-04-27T13:30:56Z   \n",
      "\n",
      "              AppointmentDay  Age Neighbourhood  Scholarship  Hipertension  \\\n",
      "110522  2016-06-07T00:00:00Z   56   MARIA ORTIZ            0             0   \n",
      "110523  2016-06-07T00:00:00Z   51   MARIA ORTIZ            0             0   \n",
      "110524  2016-06-07T00:00:00Z   21   MARIA ORTIZ            0             0   \n",
      "110525  2016-06-07T00:00:00Z   38   MARIA ORTIZ            0             0   \n",
      "110526  2016-06-07T00:00:00Z   54   MARIA ORTIZ            0             0   \n",
      "\n",
      "        Diabetes  Alcoholism  Handcap  SMS_received No-show  \n",
      "110522         0           0        0             1      No  \n",
      "110523         0           0        0             1      No  \n",
      "110524         0           0        0             1      No  \n",
      "110525         0           0        0             1      No  \n",
      "110526         0           0        0             1      No  \n"
     ]
    }
   ],
   "source": [
    "# Previewing the first five and the last five records.\n",
    "print(no_show_df.head())\n",
    "print(no_show_df.tail())"
   ]
  },
  {
   "cell_type": "markdown",
   "metadata": {},
   "source": [
    "Using the shape function to get the number of rows and columns in the dataset."
   ]
  },
  {
   "cell_type": "code",
   "execution_count": 7,
   "metadata": {},
   "outputs": [
    {
     "name": "stdout",
     "output_type": "stream",
     "text": [
      "(110527, 14)\n"
     ]
    }
   ],
   "source": [
    "print(no_show_df.shape)\n",
    "# The dataset has 14 columns and 110527 rows"
   ]
  },
  {
   "cell_type": "markdown",
   "metadata": {},
   "source": [
    "Using the info function to find more information about the dataset and its structure"
   ]
  },
  {
   "cell_type": "code",
   "execution_count": 8,
   "metadata": {},
   "outputs": [
    {
     "name": "stdout",
     "output_type": "stream",
     "text": [
      "<class 'pandas.core.frame.DataFrame'>\n",
      "RangeIndex: 110527 entries, 0 to 110526\n",
      "Data columns (total 14 columns):\n",
      " #   Column          Non-Null Count   Dtype  \n",
      "---  ------          --------------   -----  \n",
      " 0   PatientId       110527 non-null  float64\n",
      " 1   AppointmentID   110527 non-null  int64  \n",
      " 2   Gender          110527 non-null  object \n",
      " 3   ScheduledDay    110527 non-null  object \n",
      " 4   AppointmentDay  110527 non-null  object \n",
      " 5   Age             110527 non-null  int64  \n",
      " 6   Neighbourhood   110527 non-null  object \n",
      " 7   Scholarship     110527 non-null  int64  \n",
      " 8   Hipertension    110527 non-null  int64  \n",
      " 9   Diabetes        110527 non-null  int64  \n",
      " 10  Alcoholism      110527 non-null  int64  \n",
      " 11  Handcap         110527 non-null  int64  \n",
      " 12  SMS_received    110527 non-null  int64  \n",
      " 13  No-show         110527 non-null  object \n",
      "dtypes: float64(1), int64(8), object(5)\n",
      "memory usage: 11.8+ MB\n"
     ]
    }
   ],
   "source": [
    "no_show_df.info() #Checking the general information about this dataframe."
   ]
  },
  {
   "cell_type": "markdown",
   "metadata": {},
   "source": [
    "Using dtype function to get the types of data in each column"
   ]
  },
  {
   "cell_type": "code",
   "execution_count": 9,
   "metadata": {},
   "outputs": [
    {
     "data": {
      "text/plain": [
       "PatientId         float64\n",
       "AppointmentID       int64\n",
       "Gender             object\n",
       "ScheduledDay       object\n",
       "AppointmentDay     object\n",
       "Age                 int64\n",
       "Neighbourhood      object\n",
       "Scholarship         int64\n",
       "Hipertension        int64\n",
       "Diabetes            int64\n",
       "Alcoholism          int64\n",
       "Handcap             int64\n",
       "SMS_received        int64\n",
       "No-show            object\n",
       "dtype: object"
      ]
     },
     "execution_count": 9,
     "metadata": {},
     "output_type": "execute_result"
    }
   ],
   "source": [
    "no_show_df.dtypes #Analyzing the types of data in each column."
   ]
  },
  {
   "cell_type": "markdown",
   "metadata": {},
   "source": [
    "### Checking for missing and duplicated values"
   ]
  },
  {
   "cell_type": "markdown",
   "metadata": {},
   "source": [
    "Using the isnull function to get the number of missing values in the dataset."
   ]
  },
  {
   "cell_type": "code",
   "execution_count": 10,
   "metadata": {},
   "outputs": [
    {
     "data": {
      "text/plain": [
       "PatientId         0\n",
       "AppointmentID     0\n",
       "Gender            0\n",
       "ScheduledDay      0\n",
       "AppointmentDay    0\n",
       "Age               0\n",
       "Neighbourhood     0\n",
       "Scholarship       0\n",
       "Hipertension      0\n",
       "Diabetes          0\n",
       "Alcoholism        0\n",
       "Handcap           0\n",
       "SMS_received      0\n",
       "No-show           0\n",
       "dtype: int64"
      ]
     },
     "execution_count": 10,
     "metadata": {},
     "output_type": "execute_result"
    }
   ],
   "source": [
    "no_show_df.isnull().sum()  #Checking for the null values in the dataframe."
   ]
  },
  {
   "cell_type": "markdown",
   "metadata": {},
   "source": [
    "From the above output, the dataset has no missing values."
   ]
  },
  {
   "cell_type": "markdown",
   "metadata": {},
   "source": [
    "After checking the missing functions, it's time to check for the duplicate values in the dataset.This can be done through using the duplicated function."
   ]
  },
  {
   "cell_type": "code",
   "execution_count": 11,
   "metadata": {},
   "outputs": [
    {
     "data": {
      "text/plain": [
       "0"
      ]
     },
     "execution_count": 11,
     "metadata": {},
     "output_type": "execute_result"
    }
   ],
   "source": [
    "no_show_df.duplicated().sum()  # checking for duplicates\n"
   ]
  },
  {
   "cell_type": "markdown",
   "metadata": {},
   "source": [
    "The above output shows there are no duplicate values in the dataframe."
   ]
  },
  {
   "cell_type": "markdown",
   "metadata": {},
   "source": [
    "\n",
    "### Data Cleaning"
   ]
  },
  {
   "cell_type": "markdown",
   "metadata": {},
   "source": [
    "Using the columns function,to identify any errors in the way the naming is done."
   ]
  },
  {
   "cell_type": "code",
   "execution_count": 12,
   "metadata": {},
   "outputs": [
    {
     "data": {
      "text/plain": [
       "Index(['PatientId', 'AppointmentID', 'Gender', 'ScheduledDay',\n",
       "       'AppointmentDay', 'Age', 'Neighbourhood', 'Scholarship', 'Hipertension',\n",
       "       'Diabetes', 'Alcoholism', 'Handcap', 'SMS_received', 'No-show'],\n",
       "      dtype='object')"
      ]
     },
     "execution_count": 12,
     "metadata": {},
     "output_type": "execute_result"
    }
   ],
   "source": [
    "no_show_df.columns   # Analyzing the columns given in this dataframe.\n"
   ]
  },
  {
   "cell_type": "markdown",
   "metadata": {},
   "source": [
    "The 'Hipertension'column is wrongly spelt. So there is a need to rename it correctly to 'Hypertension'."
   ]
  },
  {
   "cell_type": "code",
   "execution_count": 13,
   "metadata": {},
   "outputs": [
    {
     "data": {
      "text/html": [
       "<div>\n",
       "<style scoped>\n",
       "    .dataframe tbody tr th:only-of-type {\n",
       "        vertical-align: middle;\n",
       "    }\n",
       "\n",
       "    .dataframe tbody tr th {\n",
       "        vertical-align: top;\n",
       "    }\n",
       "\n",
       "    .dataframe thead th {\n",
       "        text-align: right;\n",
       "    }\n",
       "</style>\n",
       "<table border=\"1\" class=\"dataframe\">\n",
       "  <thead>\n",
       "    <tr style=\"text-align: right;\">\n",
       "      <th></th>\n",
       "      <th>PatientId</th>\n",
       "      <th>AppointmentID</th>\n",
       "      <th>Gender</th>\n",
       "      <th>ScheduledDay</th>\n",
       "      <th>AppointmentDay</th>\n",
       "      <th>Age</th>\n",
       "      <th>Neighbourhood</th>\n",
       "      <th>Scholarship</th>\n",
       "      <th>Hypertension</th>\n",
       "      <th>Diabetes</th>\n",
       "      <th>Alcoholism</th>\n",
       "      <th>Handcap</th>\n",
       "      <th>SMS_received</th>\n",
       "      <th>No-show</th>\n",
       "    </tr>\n",
       "  </thead>\n",
       "  <tbody>\n",
       "    <tr>\n",
       "      <th>0</th>\n",
       "      <td>2.987250e+13</td>\n",
       "      <td>5642903</td>\n",
       "      <td>F</td>\n",
       "      <td>2016-04-29T18:38:08Z</td>\n",
       "      <td>2016-04-29T00:00:00Z</td>\n",
       "      <td>62</td>\n",
       "      <td>JARDIM DA PENHA</td>\n",
       "      <td>0</td>\n",
       "      <td>1</td>\n",
       "      <td>0</td>\n",
       "      <td>0</td>\n",
       "      <td>0</td>\n",
       "      <td>0</td>\n",
       "      <td>No</td>\n",
       "    </tr>\n",
       "  </tbody>\n",
       "</table>\n",
       "</div>"
      ],
      "text/plain": [
       "      PatientId  AppointmentID Gender          ScheduledDay  \\\n",
       "0  2.987250e+13        5642903      F  2016-04-29T18:38:08Z   \n",
       "\n",
       "         AppointmentDay  Age    Neighbourhood  Scholarship  Hypertension  \\\n",
       "0  2016-04-29T00:00:00Z   62  JARDIM DA PENHA            0             1   \n",
       "\n",
       "   Diabetes  Alcoholism  Handcap  SMS_received No-show  \n",
       "0         0           0        0             0      No  "
      ]
     },
     "execution_count": 13,
     "metadata": {},
     "output_type": "execute_result"
    }
   ],
   "source": [
    "no_show_df.rename(columns={'Hipertension': 'Hypertension'}, inplace=True)  #Correcting the spelling error of the name Hypertension from 'Hipertension' to 'Hypertension'.\n",
    "no_show_df.head(1)"
   ]
  },
  {
   "cell_type": "markdown",
   "metadata": {},
   "source": [
    "From the above, the colunm name has been correctly renamed to Hypertension."
   ]
  },
  {
   "cell_type": "markdown",
   "metadata": {},
   "source": [
    "This dataframe is cleaned and doesn't need much of cleaning."
   ]
  },
  {
   "cell_type": "markdown",
   "metadata": {},
   "source": [
    "<a id='eda'></a>\n",
    "## Exploratory Data Analysis\n",
    "\n",
    "### Research Question 1 (How does age affect the patient's ability to get a medical scholarship?)"
   ]
  },
  {
   "cell_type": "markdown",
   "metadata": {},
   "source": [
    "To conduct an anlysis on patients'age and scholarship status, assign the patients on the Scholarship as'scholarship' and those who are not as'without'."
   ]
  },
  {
   "cell_type": "code",
   "execution_count": 14,
   "metadata": {},
   "outputs": [],
   "source": [
    "#Assigning variables to the Scholarship column, using scholarship and without scholarship.\n",
    "scholarship = no_show_df.Scholarship == True\n",
    "without = no_show_df.Scholarship == False"
   ]
  },
  {
   "cell_type": "markdown",
   "metadata": {},
   "source": [
    "To understand better, it will be better to understand the mean age of the patients on the scholarship."
   ]
  },
  {
   "cell_type": "code",
   "execution_count": 15,
   "metadata": {},
   "outputs": [
    {
     "data": {
      "text/plain": [
       "30.616241598379524"
      ]
     },
     "execution_count": 15,
     "metadata": {},
     "output_type": "execute_result"
    }
   ],
   "source": [
    "#Calculating the mean age of the patints with the scholarship in the dataframe.\n",
    "no_show_df.Age[scholarship].mean()"
   ]
  },
  {
   "cell_type": "markdown",
   "metadata": {},
   "source": [
    "From the above analysis, the mean age of the patients who are on a scholarship is 30.616."
   ]
  },
  {
   "cell_type": "markdown",
   "metadata": {},
   "source": [
    "To understand better, it will be better to understand the mean age of the patients who are not on the scholarship."
   ]
  },
  {
   "cell_type": "code",
   "execution_count": 16,
   "metadata": {},
   "outputs": [
    {
     "data": {
      "text/plain": [
       "37.7942227038308"
      ]
     },
     "execution_count": 16,
     "metadata": {},
     "output_type": "execute_result"
    }
   ],
   "source": [
    "#Calculating the mean age of the patients without the scholarship in the dataframe.\n",
    "no_show_df.Age[without].mean()"
   ]
  },
  {
   "cell_type": "markdown",
   "metadata": {},
   "source": [
    "After using the mean function, the mean age of patients who are not on the scholarship is 37.79"
   ]
  },
  {
   "cell_type": "markdown",
   "metadata": {},
   "source": [
    "Use the histo function to plot a histogram that shows the how age affects the ability of patients to have a scholarship."
   ]
  },
  {
   "cell_type": "code",
   "execution_count": 20,
   "metadata": {},
   "outputs": [],
   "source": [
    "def histo(a,b,c,d,title,xlab,ylab):   #Defining the histo function\n",
    "  a.hist(alpha=0.5, bins=20, label= c)\n",
    "  b.hist(alpha=0.5, bins=20, label= d)\n",
    "  plt.title(title)\n",
    "  plt.xlabel(xlab, fontsize=18)\n",
    "  plt.ylabel(ylab, fontsize=18)\n",
    "  plt.legend();  "
   ]
  },
  {
   "cell_type": "markdown",
   "metadata": {},
   "source": [
    "The histo function has been developed, it will be use as well in the second question."
   ]
  },
  {
   "cell_type": "markdown",
   "metadata": {},
   "source": [
    "Using the histo function to visualize the relationship between age and scholarship."
   ]
  },
  {
   "cell_type": "code",
   "execution_count": 18,
   "metadata": {},
   "outputs": [
    {
     "data": {
      "image/png": "[encoded data removed]",
      "text/plain": [
       "<Figure size 432x288 with 1 Axes>"
      ]
     },
     "metadata": {
      "needs_background": "light"
     },
     "output_type": "display_data"
    }
   ],
   "source": [
    "histo(no_show_df.Age[scholarship],no_show_df.Age[without],'scholarship','without','Age and Scholarship relation','Age','Count')"
   ]
  },
  {
   "cell_type": "markdown",
   "metadata": {},
   "source": [
    "Analysis: From the above analysis on the question how age affects the ability of a patient to be enrolled in the Brasilian welfare program,it shows that the mean age for patients covered under the program is lower than those who are not covered. The mean age for patients covered is 30.616 while those who are not covered is 37.794. In addition to this, the number of patients who are under the scholarship is less compared to those who are not.\n",
    "\n",
    "From the graph above, majority of the patients under the scholarship range from 0 to 40 years."
   ]
  },
  {
   "cell_type": "markdown",
   "metadata": {},
   "source": [
    "### Research Question 2  (How does gender affect the patient's ability to get a medical scholarship?)"
   ]
  },
  {
   "cell_type": "markdown",
   "metadata": {},
   "source": [
    "To understand if gender affects a patient's ability to have a scholarship. To do this, dataframe of the patients will be analyzed by looking at the variable gender."
   ]
  },
  {
   "cell_type": "markdown",
   "metadata": {},
   "source": [
    "Using the histo function to visualize the relationship between the gender and scholarship."
   ]
  },
  {
   "cell_type": "code",
   "execution_count": 19,
   "metadata": {},
   "outputs": [
    {
     "data": {
      "image/png": "[encoded data removed]",
      "text/plain": [
       "<Figure size 432x288 with 1 Axes>"
      ]
     },
     "metadata": {
      "needs_background": "light"
     },
     "output_type": "display_data"
    }
   ],
   "source": [
    "histo(no_show_df.Gender[scholarship],no_show_df.Gender[without],'scholarship','without','Gender and Scholarship relation','Gender','Count')"
   ]
  },
  {
   "cell_type": "markdown",
   "metadata": {},
   "source": [
    "A histogram that shows the relationship between gender and scholarship."
   ]
  },
  {
   "cell_type": "markdown",
   "metadata": {},
   "source": [
    "There are more female patients than male patients and the histogram above indicates that more females are covered under the scholarship compared to men."
   ]
  },
  {
   "cell_type": "markdown",
   "metadata": {},
   "source": [
    "To further understand and ensure there's no bias, investigation on the dataframe will be done to know the number of male and female patients."
   ]
  },
  {
   "cell_type": "code",
   "execution_count": 18,
   "metadata": {},
   "outputs": [
    {
     "data": {
      "text/plain": [
       "F    71840\n",
       "M    38687\n",
       "Name: Gender, dtype: int64"
      ]
     },
     "execution_count": 18,
     "metadata": {},
     "output_type": "execute_result"
    }
   ],
   "source": [
    "no_show_df.Gender.value_counts()  # to find the number of male and female patients."
   ]
  },
  {
   "cell_type": "markdown",
   "metadata": {},
   "source": [
    "### Research Question 3: How does Diabetes affects the patient's ability to get a medical scholarship?"
   ]
  },
  {
   "cell_type": "markdown",
   "metadata": {},
   "source": [
    "In order to understand if patients with or without diabetes have a scholarship or not."
   ]
  },
  {
   "cell_type": "code",
   "execution_count": 103,
   "metadata": {},
   "outputs": [
    {
     "data": {
      "text/plain": [
       "Diabetes\n",
       "0    0.100328\n",
       "1    0.071635\n",
       "Name: Scholarship, dtype: float64"
      ]
     },
     "execution_count": 103,
     "metadata": {},
     "output_type": "execute_result"
    }
   ],
   "source": [
    "#Mean of Diabetic patients with and without the scholarship. \n",
    "diabetic = no_show_df.groupby('Diabetes').Scholarship.mean()\n",
    "diabetic"
   ]
  },
  {
   "cell_type": "code",
   "execution_count": 102,
   "metadata": {},
   "outputs": [
    {
     "data": {
      "text/plain": [
       "Text(0, 0.5, 'Mean Count')"
      ]
     },
     "execution_count": 102,
     "metadata": {},
     "output_type": "execute_result"
    },
    {
     "data": {
      "image/png": "[encoded data removed]",
      "text/plain": [
       "<Figure size 576x432 with 1 Axes>"
      ]
     },
     "metadata": {
      "needs_background": "light"
     },
     "output_type": "display_data"
    }
   ],
   "source": [
    "#Visualizing Diabetic patients with and without the scholarship.\n",
    "label = ['without scholarship', 'with scholarship']\n",
    "plt.figure(figsize=(8,6))\n",
    "plt.bar(label,diabetic)\n",
    "plt.title('Diabetic Patients with and without scholarship')\n",
    "plt.xlabel('Scholarship')\n",
    "plt.ylabel('Mean Count') "
   ]
  },
  {
   "cell_type": "markdown",
   "metadata": {},
   "source": [
    "The above results indicate that the mean count of patients without the scholarship is higher thn those who have the scholarship. Those without the scholarship have a mean count of 0.1 and those who have the scholarship have a mean count of about 0.07."
   ]
  },
  {
   "cell_type": "markdown",
   "metadata": {},
   "source": [
    "### Research Question 4: Investigate the relationship that exists between the patients' ages and hypertension, diabetes, alcoholism and handcap."
   ]
  },
  {
   "cell_type": "markdown",
   "metadata": {},
   "source": [
    "Load the dataframe to show the columns in the dataframe."
   ]
  },
  {
   "cell_type": "markdown",
   "metadata": {},
   "source": [
    "Assign df to the dataframe to show a table form of the variables being investigated. These variables are age, hypertension, diabetes, alcoholism and handcap."
   ]
  },
  {
   "cell_type": "code",
   "execution_count": 104,
   "metadata": {},
   "outputs": [
    {
     "data": {
      "text/html": [
       "<div>\n",
       "<style scoped>\n",
       "    .dataframe tbody tr th:only-of-type {\n",
       "        vertical-align: middle;\n",
       "    }\n",
       "\n",
       "    .dataframe tbody tr th {\n",
       "        vertical-align: top;\n",
       "    }\n",
       "\n",
       "    .dataframe thead th {\n",
       "        text-align: right;\n",
       "    }\n",
       "</style>\n",
       "<table border=\"1\" class=\"dataframe\">\n",
       "  <thead>\n",
       "    <tr style=\"text-align: right;\">\n",
       "      <th></th>\n",
       "      <th>Age</th>\n",
       "      <th>Hypertension</th>\n",
       "      <th>Diabetes</th>\n",
       "      <th>Alcoholism</th>\n",
       "      <th>Handcap</th>\n",
       "    </tr>\n",
       "  </thead>\n",
       "  <tbody>\n",
       "    <tr>\n",
       "      <th>0</th>\n",
       "      <td>62</td>\n",
       "      <td>1</td>\n",
       "      <td>0</td>\n",
       "      <td>0</td>\n",
       "      <td>0</td>\n",
       "    </tr>\n",
       "    <tr>\n",
       "      <th>1</th>\n",
       "      <td>56</td>\n",
       "      <td>0</td>\n",
       "      <td>0</td>\n",
       "      <td>0</td>\n",
       "      <td>0</td>\n",
       "    </tr>\n",
       "    <tr>\n",
       "      <th>2</th>\n",
       "      <td>62</td>\n",
       "      <td>0</td>\n",
       "      <td>0</td>\n",
       "      <td>0</td>\n",
       "      <td>0</td>\n",
       "    </tr>\n",
       "    <tr>\n",
       "      <th>3</th>\n",
       "      <td>8</td>\n",
       "      <td>0</td>\n",
       "      <td>0</td>\n",
       "      <td>0</td>\n",
       "      <td>0</td>\n",
       "    </tr>\n",
       "    <tr>\n",
       "      <th>4</th>\n",
       "      <td>56</td>\n",
       "      <td>1</td>\n",
       "      <td>1</td>\n",
       "      <td>0</td>\n",
       "      <td>0</td>\n",
       "    </tr>\n",
       "    <tr>\n",
       "      <th>...</th>\n",
       "      <td>...</td>\n",
       "      <td>...</td>\n",
       "      <td>...</td>\n",
       "      <td>...</td>\n",
       "      <td>...</td>\n",
       "    </tr>\n",
       "    <tr>\n",
       "      <th>110522</th>\n",
       "      <td>56</td>\n",
       "      <td>0</td>\n",
       "      <td>0</td>\n",
       "      <td>0</td>\n",
       "      <td>0</td>\n",
       "    </tr>\n",
       "    <tr>\n",
       "      <th>110523</th>\n",
       "      <td>51</td>\n",
       "      <td>0</td>\n",
       "      <td>0</td>\n",
       "      <td>0</td>\n",
       "      <td>0</td>\n",
       "    </tr>\n",
       "    <tr>\n",
       "      <th>110524</th>\n",
       "      <td>21</td>\n",
       "      <td>0</td>\n",
       "      <td>0</td>\n",
       "      <td>0</td>\n",
       "      <td>0</td>\n",
       "    </tr>\n",
       "    <tr>\n",
       "      <th>110525</th>\n",
       "      <td>38</td>\n",
       "      <td>0</td>\n",
       "      <td>0</td>\n",
       "      <td>0</td>\n",
       "      <td>0</td>\n",
       "    </tr>\n",
       "    <tr>\n",
       "      <th>110526</th>\n",
       "      <td>54</td>\n",
       "      <td>0</td>\n",
       "      <td>0</td>\n",
       "      <td>0</td>\n",
       "      <td>0</td>\n",
       "    </tr>\n",
       "  </tbody>\n",
       "</table>\n",
       "<p>110527 rows × 5 columns</p>\n",
       "</div>"
      ],
      "text/plain": [
       "        Age  Hypertension  Diabetes  Alcoholism  Handcap\n",
       "0        62             1         0           0        0\n",
       "1        56             0         0           0        0\n",
       "2        62             0         0           0        0\n",
       "3         8             0         0           0        0\n",
       "4        56             1         1           0        0\n",
       "...     ...           ...       ...         ...      ...\n",
       "110522   56             0         0           0        0\n",
       "110523   51             0         0           0        0\n",
       "110524   21             0         0           0        0\n",
       "110525   38             0         0           0        0\n",
       "110526   54             0         0           0        0\n",
       "\n",
       "[110527 rows x 5 columns]"
      ]
     },
     "execution_count": 104,
     "metadata": {},
     "output_type": "execute_result"
    }
   ],
   "source": [
    "# Investigating the relationship between the variables listed below.\n",
    "df = no_show_df[['Age', 'Hypertension', 'Diabetes', 'Alcoholism', 'Handcap']] \n",
    "df"
   ]
  },
  {
   "cell_type": "markdown",
   "metadata": {},
   "source": [
    "The above results have displayed a table containing the age, hypertension, diabetes, alcoholism and handcap. The dataframe has 110,527 rows and 5 columns."
   ]
  },
  {
   "cell_type": "markdown",
   "metadata": {},
   "source": [
    "After getting the dataframe for the variables to be investigated, using the corr function, the relationship between these variables can be established in a table format."
   ]
  },
  {
   "cell_type": "code",
   "execution_count": 105,
   "metadata": {},
   "outputs": [
    {
     "data": {
      "text/html": [
       "<div>\n",
       "<style scoped>\n",
       "    .dataframe tbody tr th:only-of-type {\n",
       "        vertical-align: middle;\n",
       "    }\n",
       "\n",
       "    .dataframe tbody tr th {\n",
       "        vertical-align: top;\n",
       "    }\n",
       "\n",
       "    .dataframe thead th {\n",
       "        text-align: right;\n",
       "    }\n",
       "</style>\n",
       "<table border=\"1\" class=\"dataframe\">\n",
       "  <thead>\n",
       "    <tr style=\"text-align: right;\">\n",
       "      <th></th>\n",
       "      <th>Age</th>\n",
       "      <th>Hypertension</th>\n",
       "      <th>Diabetes</th>\n",
       "      <th>Alcoholism</th>\n",
       "      <th>Handcap</th>\n",
       "    </tr>\n",
       "  </thead>\n",
       "  <tbody>\n",
       "    <tr>\n",
       "      <th>Age</th>\n",
       "      <td>1.000000</td>\n",
       "      <td>0.504586</td>\n",
       "      <td>0.292391</td>\n",
       "      <td>0.095811</td>\n",
       "      <td>0.078033</td>\n",
       "    </tr>\n",
       "    <tr>\n",
       "      <th>Hypertension</th>\n",
       "      <td>0.504586</td>\n",
       "      <td>1.000000</td>\n",
       "      <td>0.433086</td>\n",
       "      <td>0.087971</td>\n",
       "      <td>0.080083</td>\n",
       "    </tr>\n",
       "    <tr>\n",
       "      <th>Diabetes</th>\n",
       "      <td>0.292391</td>\n",
       "      <td>0.433086</td>\n",
       "      <td>1.000000</td>\n",
       "      <td>0.018474</td>\n",
       "      <td>0.057530</td>\n",
       "    </tr>\n",
       "    <tr>\n",
       "      <th>Alcoholism</th>\n",
       "      <td>0.095811</td>\n",
       "      <td>0.087971</td>\n",
       "      <td>0.018474</td>\n",
       "      <td>1.000000</td>\n",
       "      <td>0.004648</td>\n",
       "    </tr>\n",
       "    <tr>\n",
       "      <th>Handcap</th>\n",
       "      <td>0.078033</td>\n",
       "      <td>0.080083</td>\n",
       "      <td>0.057530</td>\n",
       "      <td>0.004648</td>\n",
       "      <td>1.000000</td>\n",
       "    </tr>\n",
       "  </tbody>\n",
       "</table>\n",
       "</div>"
      ],
      "text/plain": [
       "                   Age  Hypertension  Diabetes  Alcoholism   Handcap\n",
       "Age           1.000000      0.504586  0.292391    0.095811  0.078033\n",
       "Hypertension  0.504586      1.000000  0.433086    0.087971  0.080083\n",
       "Diabetes      0.292391      0.433086  1.000000    0.018474  0.057530\n",
       "Alcoholism    0.095811      0.087971  0.018474    1.000000  0.004648\n",
       "Handcap       0.078033      0.080083  0.057530    0.004648  1.000000"
      ]
     },
     "execution_count": 105,
     "metadata": {},
     "output_type": "execute_result"
    }
   ],
   "source": [
    "#Finding the relationshp between the variables given that is age, hypertension, diabetes, alcoholism and handcap.\n",
    "corr_matrix = df.corr()\n",
    "corr_matrix"
   ]
  },
  {
   "cell_type": "markdown",
   "metadata": {},
   "source": [
    "After using the corr function, a relationship between the variables has been established. "
   ]
  },
  {
   "cell_type": "markdown",
   "metadata": {},
   "source": [
    "To get a better understanding of the relationship between the variables, a heatmap can be created using seaborn to investigate the extent of the relationship between different variables. "
   ]
  },
  {
   "cell_type": "code",
   "execution_count": 106,
   "metadata": {},
   "outputs": [
    {
     "data": {
      "text/plain": [
       "Text(33.0, 0.5, 'Variables')"
      ]
     },
     "execution_count": 106,
     "metadata": {},
     "output_type": "execute_result"
    },
    {
     "data": {
      "image/png": "[encoded data removed]",
      "text/plain": [
       "<Figure size 432x288 with 2 Axes>"
      ]
     },
     "metadata": {
      "needs_background": "light"
     },
     "output_type": "display_data"
    }
   ],
   "source": [
    "#Plitting a heatmap to show the relationship between the different variables from the dataframe.\n",
    "sns.heatmap(corr_matrix, annot= True )\n",
    "plt.title('Correlation between Age,Hypertension, Diabetes, Alcoholism and Handcap')\n",
    "plt.xlabel('Variables')\n",
    "plt.ylabel('Variables')"
   ]
  },
  {
   "cell_type": "markdown",
   "metadata": {},
   "source": [
    "From the above heat map, there's a clear indication that there is a positie relationship among the variables because all the figures are positive. There is a strong relationship between age and hypertension by 0.5, followed by diabetes which is 0.29. Chances of a patient who has hypertension developing diabetes is high and it's by 0.43.\n",
    "There's a weak realtionship between alcoholism and handcap."
   ]
  },
  {
   "cell_type": "markdown",
   "metadata": {},
   "source": [
    "### Question 1. What is the number of  patients that are on a scholarship and those that are not?"
   ]
  },
  {
   "cell_type": "markdown",
   "metadata": {},
   "source": [
    "To get the number of patients with and without the scholarship, the function count is used."
   ]
  },
  {
   "cell_type": "code",
   "execution_count": 90,
   "metadata": {},
   "outputs": [],
   "source": [
    "def counts(col):     #Creating the counts function to be used in the subsequent questions.\n",
    "    values = col.value_counts()\n",
    "    return values "
   ]
  },
  {
   "cell_type": "markdown",
   "metadata": {},
   "source": [
    "The function count has been established."
   ]
  },
  {
   "cell_type": "markdown",
   "metadata": {},
   "source": [
    "Using the count function, the number of patients with and without the Scholarship can be obtained as shown below."
   ]
  },
  {
   "cell_type": "code",
   "execution_count": 89,
   "metadata": {},
   "outputs": [
    {
     "data": {
      "text/plain": [
       "0    99666\n",
       "1    10861\n",
       "Name: Scholarship, dtype: int64"
      ]
     },
     "execution_count": 89,
     "metadata": {},
     "output_type": "execute_result"
    }
   ],
   "source": [
    "with_without_scholarship = counts(no_show_df['Scholarship']) # Finding the total number of patients with and without the scholarship.\n",
    "with_without_scholarship"
   ]
  },
  {
   "cell_type": "markdown",
   "metadata": {},
   "source": [
    "After executing the count function, the number of patients without the scholarship is 99,666 and that of patients with the scholarship is 10,861."
   ]
  },
  {
   "cell_type": "markdown",
   "metadata": {},
   "source": [
    "In order to create a visualization for the data of patients with and without Scholarship, the pie function will be used."
   ]
  },
  {
   "cell_type": "code",
   "execution_count": 91,
   "metadata": {},
   "outputs": [],
   "source": [
    "def pie(values, title):    # Creating the pie function to be used in the subsequent questions.\n",
    "    labels = ['without','with']\n",
    "    explode = (0,0.1)\n",
    "    fig1, ax1 = plt.subplots()\n",
    "    ax1.pie(values, explode=explode, labels=labels,autopct = '%1.1f%%',shadow=True, startangle=90)\n",
    "    plt.title(title); "
   ]
  },
  {
   "cell_type": "markdown",
   "metadata": {},
   "source": [
    "The pie function is developed."
   ]
  },
  {
   "cell_type": "markdown",
   "metadata": {},
   "source": [
    "The pie function will be used to create a pie chart visualizing patients and without the Scholarship."
   ]
  },
  {
   "cell_type": "code",
   "execution_count": 87,
   "metadata": {},
   "outputs": [
    {
     "data": {
      "image/png": "[encoded data removed]",
      "text/plain": [
       "<Figure size 432x288 with 1 Axes>"
      ]
     },
     "metadata": {},
     "output_type": "display_data"
    }
   ],
   "source": [
    "pie(with_without_scholarship,'Patients with and without Scholarship')  #Visualizing patients with and without the scholarship."
   ]
  },
  {
   "cell_type": "markdown",
   "metadata": {},
   "source": [
    "The visualization above shows the percentage of patients with and without the scholarship. Those with the scholarship is 9.8% and those without is 90.2%."
   ]
  },
  {
   "cell_type": "markdown",
   "metadata": {},
   "source": [
    "### Question 2. What is the number of patients with and without Hypertension?"
   ]
  },
  {
   "cell_type": "markdown",
   "metadata": {},
   "source": [
    "Using the counts function, the number of patients with and without hypertension can be established. "
   ]
  },
  {
   "cell_type": "code",
   "execution_count": 86,
   "metadata": {},
   "outputs": [
    {
     "data": {
      "text/plain": [
       "0    88726\n",
       "1    21801\n",
       "Name: Hypertension, dtype: int64"
      ]
     },
     "execution_count": 86,
     "metadata": {},
     "output_type": "execute_result"
    }
   ],
   "source": [
    "with_without_hypertension = counts(no_show_df[ 'Hypertension'])  #Calculating the totals of patients with and without hypertension.\n",
    "with_without_hypertension"
   ]
  },
  {
   "cell_type": "markdown",
   "metadata": {},
   "source": [
    "After using the count function, the number of patients with and without diabetes has been established. 88,726 patients don't have diabetes while 21,801 have diabetes."
   ]
  },
  {
   "cell_type": "markdown",
   "metadata": {},
   "source": [
    "Using the pie function, the number of patients with and without hypertension can be visualized."
   ]
  },
  {
   "cell_type": "code",
   "execution_count": 85,
   "metadata": {},
   "outputs": [
    {
     "data": {
      "image/png": "[encoded data removed]",
      "text/plain": [
       "<Figure size 432x288 with 1 Axes>"
      ]
     },
     "metadata": {},
     "output_type": "display_data"
    }
   ],
   "source": [
    "pie(with_without_hypertension,'Patients with and without Hypertension')  #Visualizing patients with and without hypertension."
   ]
  },
  {
   "cell_type": "markdown",
   "metadata": {},
   "source": [
    "Using the pie function, the number of patients with and without diabetes has been visualized, patients with hypertension is 19.7% and those without 80.3%."
   ]
  },
  {
   "cell_type": "markdown",
   "metadata": {},
   "source": [
    "### Question 3. What is the number of patients with and without Diabetes?"
   ]
  },
  {
   "cell_type": "markdown",
   "metadata": {},
   "source": [
    "Using the counts function, the number of patients with and without diabetes can be established"
   ]
  },
  {
   "cell_type": "code",
   "execution_count": 84,
   "metadata": {},
   "outputs": [
    {
     "data": {
      "text/plain": [
       "0    102584\n",
       "1      7943\n",
       "Name: Diabetes, dtype: int64"
      ]
     },
     "execution_count": 84,
     "metadata": {},
     "output_type": "execute_result"
    }
   ],
   "source": [
    "with_without_diabetes = counts(no_show_df['Diabetes'])  #Finding the total number of patients with and without diabetes.\n",
    "with_without_diabetes"
   ]
  },
  {
   "cell_type": "markdown",
   "metadata": {},
   "source": [
    "After using the count function, the number of patients with and without diabetes has been established. 102,584 patients don't have diabetes while 7,943 have diabetes."
   ]
  },
  {
   "cell_type": "markdown",
   "metadata": {},
   "source": [
    "Using the pie function, the number of patients with and without diabetes can be visualized"
   ]
  },
  {
   "cell_type": "code",
   "execution_count": 83,
   "metadata": {},
   "outputs": [
    {
     "data": {
      "image/png": "[encoded data removed]",
      "text/plain": [
       "<Figure size 432x288 with 1 Axes>"
      ]
     },
     "metadata": {},
     "output_type": "display_data"
    }
   ],
   "source": [
    "pie(with_without_diabetes,'Patients with and without Diabetes')  #Visualizing patients with and without diabetes."
   ]
  },
  {
   "cell_type": "markdown",
   "metadata": {},
   "source": [
    "Using the pie function, the number of patients with and without diabetes has been visualized, patients with diabetes is 7.2% and those without 92.8%."
   ]
  },
  {
   "cell_type": "markdown",
   "metadata": {},
   "source": [
    "### Question 4. What is the number of patients who suffer from Alcoholism and those that don't?"
   ]
  },
  {
   "cell_type": "markdown",
   "metadata": {},
   "source": [
    "Using the counts function, the number of patients with and without alcoholism can be established"
   ]
  },
  {
   "cell_type": "code",
   "execution_count": 82,
   "metadata": {},
   "outputs": [
    {
     "data": {
      "text/plain": [
       "0    107167\n",
       "1      3360\n",
       "Name: Alcoholism, dtype: int64"
      ]
     },
     "execution_count": 82,
     "metadata": {},
     "output_type": "execute_result"
    }
   ],
   "source": [
    "with_without_alcoholism = counts(no_show_df['Alcoholism'])     #Finding the totals of patients with and without alcoholism.\n",
    "with_without_alcoholism"
   ]
  },
  {
   "cell_type": "markdown",
   "metadata": {},
   "source": [
    "After using the count function, the number of patients with and without diabetes has been established.  107,167 patients don't have suffer from alcoholism while 3,360 suffer from alcoholism."
   ]
  },
  {
   "cell_type": "markdown",
   "metadata": {},
   "source": [
    "Using the pie function, the number of patients with and without alcoholism  can be visualized"
   ]
  },
  {
   "cell_type": "code",
   "execution_count": 81,
   "metadata": {},
   "outputs": [
    {
     "data": {
      "image/png": "[encoded data removed]",
      "text/plain": [
       "<Figure size 432x288 with 1 Axes>"
      ]
     },
     "metadata": {},
     "output_type": "display_data"
    }
   ],
   "source": [
    "pie(with_without_alcoholism,'Patients with and without Alcoholism')  #Visualizing the patients suffering from alcoholism and those who are not suffering from alcoholism."
   ]
  },
  {
   "cell_type": "markdown",
   "metadata": {},
   "source": [
    "Using the pie function, the number of patients with and without diabetes has been visualized, patients suffering from diabetes is 3.0% and those without 97.0%."
   ]
  },
  {
   "cell_type": "markdown",
   "metadata": {},
   "source": [
    "### Question 5. What is the number of patients who received the SMS and those that didn't?"
   ]
  },
  {
   "cell_type": "markdown",
   "metadata": {},
   "source": [
    "Using the counts function, the number of patients who received SMS and those who did not receive the SMS can be established."
   ]
  },
  {
   "cell_type": "code",
   "execution_count": 80,
   "metadata": {},
   "outputs": [
    {
     "data": {
      "text/plain": [
       "0    75045\n",
       "1    35482\n",
       "Name: SMS_received, dtype: int64"
      ]
     },
     "execution_count": 80,
     "metadata": {},
     "output_type": "execute_result"
    }
   ],
   "source": [
    "with_without_sms = counts(no_show_df['SMS_received'])       #Finding the totals for the patients who received and didn't receive the SMS.\n",
    "with_without_sms        "
   ]
  },
  {
   "cell_type": "markdown",
   "metadata": {},
   "source": [
    "The number of patients who received the SMS is 75,045 and those who did not is 35,482."
   ]
  },
  {
   "cell_type": "markdown",
   "metadata": {},
   "source": [
    "Using the pie function, the number of patients who received and didn't receive the SMS  can be visualized."
   ]
  },
  {
   "cell_type": "code",
   "execution_count": 79,
   "metadata": {},
   "outputs": [
    {
     "data": {
      "image/png": "[encoded data removed]",
      "text/plain": [
       "<Figure size 432x288 with 1 Axes>"
      ]
     },
     "metadata": {},
     "output_type": "display_data"
    }
   ],
   "source": [
    "pie(with_without_sms,'Patients with and without SMS')      #Visualizing the patients that received and didn't receive the SMS."
   ]
  },
  {
   "cell_type": "markdown",
   "metadata": {},
   "source": [
    "Using the pie function, the number of patients who received and didn't receive the SMS has been visualized, patients who received the SMS is 32.1% and those that didn't is 67.9%."
   ]
  },
  {
   "cell_type": "markdown",
   "metadata": {},
   "source": [
    "<a id='conclusions'></a>\n",
    "## Conclusions\n",
    "\n",
    "\n",
    "\n",
    "The main research question was what are some of the common trends that are seen in patients on a scholarship and those who are not. To investigate this, age, gender,and diabetes variables were investigated.\n",
    "In addition to this, a relationship between the variables age, hypertension, diabetes, alcoholism and handcap was investigated.\n",
    " \n",
    "To the first question about how age infuences a patient's ability to have a scholarship, it was established that patients who range from 0 to 40 years are more compared to the elder ones from 40 to 80. \n",
    "With the age variable, the mean age for patients covered under the program is lower than those who are not covered. The mean age for patients covered is 30.616 while those who are not covered is 37.794.\n",
    "\n",
    "In this dataframe, the number of female patients is higher than that of male patients and so is the number of those who are under the scholarship. However, it was established that generally the number of female patients is higher than that of the male patients. The females in this dataframe is 71,840 and the males is 38687. \n",
    "\n",
    "The mean count of diabetes patients without the schoraship is 0.1 which is higher than those with the scholarship which is 0.07. \n",
    "\n",
    "There is a strong relationship between age and hypertension meaning that there is a high chance of older patients having hypertension. There's also a higher relationship between hypertension and diabetes. This means that is a patient has hypertension, there's a higher likelihood of them having diabetes as well.There's a week relationship between alcoholism and handcap.\n",
    "\n",
    "In addition to this, the number of patients suffering from diabetes, hyertension, alcoholism, is less compared to those not suffering. The number of patients on a scholarship and those that received the SMS is less compared to those that don't have and didn't receive the SMS.\n",
    "\n",
    "### Limitations\n",
    "The dataframe had a lot of categorical data which limits statistical analysis.\n",
    "\n",
    "## Submitting your Project \n",
    "\n"
   ]
  },
  {
   "cell_type": "code",
   "execution_count": 75,
   "metadata": {},
   "outputs": [],
   "source": [
    "#from subprocess import call\n",
    "#call(['python', '-m', 'nbconvert', 'Investigate_a_Dataset.ipynb']) "
   ]
  }
 ],
 "metadata": {
  "interpreter": {
   "hash": "027efd7095115064582efab50921964d678032cf36f1ec215c675cf4ffc5e6b9"
  },
  "kernelspec": {
   "display_name": "Python 3.10.4 64-bit",
   "language": "python",
   "name": "python3"
  },
  "language_info": {
   "codemirror_mode": {
    "name": "ipython",
    "version": 3
   },
   "file_extension": ".py",
   "mimetype": "text/x-python",
   "name": "python",
   "nbconvert_exporter": "python",
   "pygments_lexer": "ipython3",
   "version": "3.10.4"
  }
 },
 "nbformat": 4,
 "nbformat_minor": 2
}
